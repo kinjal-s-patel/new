{
 "cells": [
  {
   "cell_type": "code",
   "execution_count": 1,
   "id": "4ece3be7-feaa-4cb9-8464-f71a3be968d7",
   "metadata": {},
   "outputs": [],
   "source": [
    "import pandas as pd"
   ]
  },
  {
   "cell_type": "code",
   "execution_count": 2,
   "id": "bd976be6-3e66-439e-a824-8c47252d2182",
   "metadata": {},
   "outputs": [
    {
     "data": {
      "text/html": [
       "<div>\n",
       "<style scoped>\n",
       "    .dataframe tbody tr th:only-of-type {\n",
       "        vertical-align: middle;\n",
       "    }\n",
       "\n",
       "    .dataframe tbody tr th {\n",
       "        vertical-align: top;\n",
       "    }\n",
       "\n",
       "    .dataframe thead th {\n",
       "        text-align: right;\n",
       "    }\n",
       "</style>\n",
       "<table border=\"1\" class=\"dataframe\">\n",
       "  <thead>\n",
       "    <tr style=\"text-align: right;\">\n",
       "      <th></th>\n",
       "      <th>Name</th>\n",
       "      <th>Author</th>\n",
       "      <th>User Rating</th>\n",
       "      <th>Reviews</th>\n",
       "      <th>Price</th>\n",
       "      <th>Year</th>\n",
       "      <th>Genre</th>\n",
       "    </tr>\n",
       "  </thead>\n",
       "  <tbody>\n",
       "    <tr>\n",
       "      <th>0</th>\n",
       "      <td>10-Day Green Smoothie Cleanse</td>\n",
       "      <td>JJ Smith</td>\n",
       "      <td>4.7</td>\n",
       "      <td>17350</td>\n",
       "      <td>8</td>\n",
       "      <td>2016</td>\n",
       "      <td>Non Fiction</td>\n",
       "    </tr>\n",
       "    <tr>\n",
       "      <th>1</th>\n",
       "      <td>11/22/63: A Novel</td>\n",
       "      <td>Stephen King</td>\n",
       "      <td>4.6</td>\n",
       "      <td>2052</td>\n",
       "      <td>22</td>\n",
       "      <td>2011</td>\n",
       "      <td>Fiction</td>\n",
       "    </tr>\n",
       "    <tr>\n",
       "      <th>2</th>\n",
       "      <td>12 Rules for Life: An Antidote to Chaos</td>\n",
       "      <td>Jordan B. Peterson</td>\n",
       "      <td>4.7</td>\n",
       "      <td>18979</td>\n",
       "      <td>15</td>\n",
       "      <td>2018</td>\n",
       "      <td>Non Fiction</td>\n",
       "    </tr>\n",
       "    <tr>\n",
       "      <th>3</th>\n",
       "      <td>1984 (Signet Classics)</td>\n",
       "      <td>George Orwell</td>\n",
       "      <td>4.7</td>\n",
       "      <td>21424</td>\n",
       "      <td>6</td>\n",
       "      <td>2017</td>\n",
       "      <td>Fiction</td>\n",
       "    </tr>\n",
       "    <tr>\n",
       "      <th>4</th>\n",
       "      <td>5,000 Awesome Facts (About Everything!) (Natio...</td>\n",
       "      <td>National Geographic Kids</td>\n",
       "      <td>4.8</td>\n",
       "      <td>7665</td>\n",
       "      <td>12</td>\n",
       "      <td>2019</td>\n",
       "      <td>Non Fiction</td>\n",
       "    </tr>\n",
       "    <tr>\n",
       "      <th>...</th>\n",
       "      <td>...</td>\n",
       "      <td>...</td>\n",
       "      <td>...</td>\n",
       "      <td>...</td>\n",
       "      <td>...</td>\n",
       "      <td>...</td>\n",
       "      <td>...</td>\n",
       "    </tr>\n",
       "    <tr>\n",
       "      <th>545</th>\n",
       "      <td>Wrecking Ball (Diary of a Wimpy Kid Book 14)</td>\n",
       "      <td>Jeff Kinney</td>\n",
       "      <td>4.9</td>\n",
       "      <td>9413</td>\n",
       "      <td>8</td>\n",
       "      <td>2019</td>\n",
       "      <td>Fiction</td>\n",
       "    </tr>\n",
       "    <tr>\n",
       "      <th>546</th>\n",
       "      <td>You Are a Badass: How to Stop Doubting Your Gr...</td>\n",
       "      <td>Jen Sincero</td>\n",
       "      <td>4.7</td>\n",
       "      <td>14331</td>\n",
       "      <td>8</td>\n",
       "      <td>2016</td>\n",
       "      <td>Non Fiction</td>\n",
       "    </tr>\n",
       "    <tr>\n",
       "      <th>547</th>\n",
       "      <td>You Are a Badass: How to Stop Doubting Your Gr...</td>\n",
       "      <td>Jen Sincero</td>\n",
       "      <td>4.7</td>\n",
       "      <td>14331</td>\n",
       "      <td>8</td>\n",
       "      <td>2017</td>\n",
       "      <td>Non Fiction</td>\n",
       "    </tr>\n",
       "    <tr>\n",
       "      <th>548</th>\n",
       "      <td>You Are a Badass: How to Stop Doubting Your Gr...</td>\n",
       "      <td>Jen Sincero</td>\n",
       "      <td>4.7</td>\n",
       "      <td>14331</td>\n",
       "      <td>8</td>\n",
       "      <td>2018</td>\n",
       "      <td>Non Fiction</td>\n",
       "    </tr>\n",
       "    <tr>\n",
       "      <th>549</th>\n",
       "      <td>You Are a Badass: How to Stop Doubting Your Gr...</td>\n",
       "      <td>Jen Sincero</td>\n",
       "      <td>4.7</td>\n",
       "      <td>14331</td>\n",
       "      <td>8</td>\n",
       "      <td>2019</td>\n",
       "      <td>Non Fiction</td>\n",
       "    </tr>\n",
       "  </tbody>\n",
       "</table>\n",
       "<p>550 rows × 7 columns</p>\n",
       "</div>"
      ],
      "text/plain": [
       "                                                  Name  \\\n",
       "0                        10-Day Green Smoothie Cleanse   \n",
       "1                                    11/22/63: A Novel   \n",
       "2              12 Rules for Life: An Antidote to Chaos   \n",
       "3                               1984 (Signet Classics)   \n",
       "4    5,000 Awesome Facts (About Everything!) (Natio...   \n",
       "..                                                 ...   \n",
       "545       Wrecking Ball (Diary of a Wimpy Kid Book 14)   \n",
       "546  You Are a Badass: How to Stop Doubting Your Gr...   \n",
       "547  You Are a Badass: How to Stop Doubting Your Gr...   \n",
       "548  You Are a Badass: How to Stop Doubting Your Gr...   \n",
       "549  You Are a Badass: How to Stop Doubting Your Gr...   \n",
       "\n",
       "                       Author  User Rating  Reviews  Price  Year        Genre  \n",
       "0                    JJ Smith          4.7    17350      8  2016  Non Fiction  \n",
       "1                Stephen King          4.6     2052     22  2011      Fiction  \n",
       "2          Jordan B. Peterson          4.7    18979     15  2018  Non Fiction  \n",
       "3               George Orwell          4.7    21424      6  2017      Fiction  \n",
       "4    National Geographic Kids          4.8     7665     12  2019  Non Fiction  \n",
       "..                        ...          ...      ...    ...   ...          ...  \n",
       "545               Jeff Kinney          4.9     9413      8  2019      Fiction  \n",
       "546               Jen Sincero          4.7    14331      8  2016  Non Fiction  \n",
       "547               Jen Sincero          4.7    14331      8  2017  Non Fiction  \n",
       "548               Jen Sincero          4.7    14331      8  2018  Non Fiction  \n",
       "549               Jen Sincero          4.7    14331      8  2019  Non Fiction  \n",
       "\n",
       "[550 rows x 7 columns]"
      ]
     },
     "execution_count": 2,
     "metadata": {},
     "output_type": "execute_result"
    }
   ],
   "source": [
    "df = pd.read_csv('C:\\\\Users\\\\rohit\\\\Desktop\\\\kinjal doc\\\\bestsellers.csv')\n",
    "df"
   ]
  },
  {
   "cell_type": "code",
   "execution_count": 18,
   "id": "b65189fc-e872-4c02-9ec3-7a5c9799c4a0",
   "metadata": {},
   "outputs": [
    {
     "data": {
      "text/plain": [
       "3.3"
      ]
     },
     "execution_count": 18,
     "metadata": {},
     "output_type": "execute_result"
    }
   ],
   "source": [
    "# Find the lowest User Rating in the DF\n",
    "\n",
    "lowest_rating = df['User Rating'].min()\n",
    "lowest_rating"
   ]
  },
  {
   "cell_type": "code",
   "execution_count": 20,
   "id": "4bbbbdbe-2369-4732-bd7e-f77c6fc6f945",
   "metadata": {},
   "outputs": [
    {
     "data": {
      "text/plain": [
       "105"
      ]
     },
     "execution_count": 20,
     "metadata": {},
     "output_type": "execute_result"
    }
   ],
   "source": [
    "# Find the highest Price in the DF\n",
    "\n",
    "highest_Price = df['Price'].max()\n",
    "highest_Price"
   ]
  },
  {
   "cell_type": "code",
   "execution_count": 30,
   "id": "023d75ef-62b3-4298-9060-0162435e2257",
   "metadata": {},
   "outputs": [
    {
     "data": {
      "text/html": [
       "<div>\n",
       "<style scoped>\n",
       "    .dataframe tbody tr th:only-of-type {\n",
       "        vertical-align: middle;\n",
       "    }\n",
       "\n",
       "    .dataframe tbody tr th {\n",
       "        vertical-align: top;\n",
       "    }\n",
       "\n",
       "    .dataframe thead th {\n",
       "        text-align: right;\n",
       "    }\n",
       "</style>\n",
       "<table border=\"1\" class=\"dataframe\">\n",
       "  <thead>\n",
       "    <tr style=\"text-align: right;\">\n",
       "      <th></th>\n",
       "      <th>Name</th>\n",
       "      <th>Author</th>\n",
       "      <th>User Rating</th>\n",
       "      <th>Reviews</th>\n",
       "      <th>Price</th>\n",
       "      <th>Year</th>\n",
       "      <th>Genre</th>\n",
       "    </tr>\n",
       "  </thead>\n",
       "  <tbody>\n",
       "    <tr>\n",
       "      <th>0</th>\n",
       "      <td>10-Day Green Smoothie Cleanse</td>\n",
       "      <td>JJ Smith</td>\n",
       "      <td>4.7</td>\n",
       "      <td>17350</td>\n",
       "      <td>8</td>\n",
       "      <td>2016</td>\n",
       "      <td>Non Fiction</td>\n",
       "    </tr>\n",
       "    <tr>\n",
       "      <th>1</th>\n",
       "      <td>11/22/63: A Novel</td>\n",
       "      <td>Stephen King</td>\n",
       "      <td>4.6</td>\n",
       "      <td>2052</td>\n",
       "      <td>22</td>\n",
       "      <td>2011</td>\n",
       "      <td>Fiction</td>\n",
       "    </tr>\n",
       "    <tr>\n",
       "      <th>2</th>\n",
       "      <td>12 Rules for Life: An Antidote to Chaos</td>\n",
       "      <td>Jordan B. Peterson</td>\n",
       "      <td>4.7</td>\n",
       "      <td>18979</td>\n",
       "      <td>15</td>\n",
       "      <td>2018</td>\n",
       "      <td>Non Fiction</td>\n",
       "    </tr>\n",
       "    <tr>\n",
       "      <th>3</th>\n",
       "      <td>1984 (Signet Classics)</td>\n",
       "      <td>George Orwell</td>\n",
       "      <td>4.7</td>\n",
       "      <td>21424</td>\n",
       "      <td>6</td>\n",
       "      <td>2017</td>\n",
       "      <td>Fiction</td>\n",
       "    </tr>\n",
       "    <tr>\n",
       "      <th>4</th>\n",
       "      <td>5,000 Awesome Facts (About Everything!) (Natio...</td>\n",
       "      <td>National Geographic Kids</td>\n",
       "      <td>4.8</td>\n",
       "      <td>7665</td>\n",
       "      <td>12</td>\n",
       "      <td>2019</td>\n",
       "      <td>Non Fiction</td>\n",
       "    </tr>\n",
       "  </tbody>\n",
       "</table>\n",
       "</div>"
      ],
      "text/plain": [
       "                                                Name  \\\n",
       "0                      10-Day Green Smoothie Cleanse   \n",
       "1                                  11/22/63: A Novel   \n",
       "2            12 Rules for Life: An Antidote to Chaos   \n",
       "3                             1984 (Signet Classics)   \n",
       "4  5,000 Awesome Facts (About Everything!) (Natio...   \n",
       "\n",
       "                     Author  User Rating  Reviews  Price  Year        Genre  \n",
       "0                  JJ Smith          4.7    17350      8  2016  Non Fiction  \n",
       "1              Stephen King          4.6     2052     22  2011      Fiction  \n",
       "2        Jordan B. Peterson          4.7    18979     15  2018  Non Fiction  \n",
       "3             George Orwell          4.7    21424      6  2017      Fiction  \n",
       "4  National Geographic Kids          4.8     7665     12  2019  Non Fiction  "
      ]
     },
     "execution_count": 30,
     "metadata": {},
     "output_type": "execute_result"
    }
   ],
   "source": [
    "# What the average User Rating of the first 5 rows?\n",
    "\n",
    "\n",
    "new_df=(df.head(5))\n",
    "new_df"
   ]
  },
  {
   "cell_type": "code",
   "execution_count": 31,
   "id": "7bf0673e-14ca-4208-9c2e-818c6b2f5def",
   "metadata": {},
   "outputs": [
    {
     "data": {
      "text/plain": [
       "4.7"
      ]
     },
     "execution_count": 31,
     "metadata": {},
     "output_type": "execute_result"
    }
   ],
   "source": [
    "User_Rating = new_df['User Rating'].mean()\n",
    "User_Rating"
   ]
  },
  {
   "cell_type": "code",
   "execution_count": 33,
   "id": "d48e657f-fa9b-4fdd-8d2b-6b4519ea56b4",
   "metadata": {},
   "outputs": [
    {
     "data": {
      "text/plain": [
       "0    4.8\n",
       "Name: User Rating, dtype: float64"
      ]
     },
     "execution_count": 33,
     "metadata": {},
     "output_type": "execute_result"
    }
   ],
   "source": [
    "#  What User Rating score appeared the most?\n",
    "\n",
    "User_Rating = df['User Rating'].mode()\n",
    "User_Rating"
   ]
  },
  {
   "cell_type": "code",
   "execution_count": 36,
   "id": "9e250c86-0059-47b3-8f56-1ab8e5bd1c5c",
   "metadata": {},
   "outputs": [
    {
     "data": {
      "text/plain": [
       "6574305"
      ]
     },
     "execution_count": 36,
     "metadata": {},
     "output_type": "execute_result"
    }
   ],
   "source": [
    "# What is the total (sum) of all the values in the Reviews column?\n",
    "\n",
    "Reviews = df['Reviews'].sum()\n",
    "Reviews"
   ]
  },
  {
   "cell_type": "code",
   "execution_count": 38,
   "id": "4923585f-8eb2-467a-944c-471a03e2d96e",
   "metadata": {},
   "outputs": [
    {
     "data": {
      "text/plain": [
       "array(['JJ Smith', 'Stephen King', 'Jordan B. Peterson', 'George Orwell',\n",
       "       'National Geographic Kids', 'George R. R. Martin', 'Amor Towles',\n",
       "       'James Comey', 'Fredrik Backman', 'Larry Schweikart',\n",
       "       'Jaycee Dugard', \"Madeleine L'Engle\", 'Steve Harvey',\n",
       "       'Adult Coloring Book Designs', 'Blue Star Coloring',\n",
       "       'Coloring Books for Adults', 'Ron Chernow', 'Anthony Doerr',\n",
       "       'Veronica Roth', 'Chris Kyle', 'Khaled Hosseini', 'Glenn Beck',\n",
       "       'Neil deGrasse Tyson', 'Mark Twain', 'DK', 'Angie Grace',\n",
       "       'Ina Garten', 'Michelle Obama', 'Atul Gawande', 'Ta-Nehisi Coates',\n",
       "       'Bruce Springsteen', 'Stephenie Meyer', 'Bill Martin Jr.',\n",
       "       'Jeff Kinney', \"Sasha O'Hara\", 'David Goggins', 'Thomas Piketty',\n",
       "       'Suzanne Collins', 'Chrissy Teigen', 'Francis Chan', 'Kevin Kwan',\n",
       "       'Marjorie Sarnat', 'Abraham Verghese', 'Brené Brown',\n",
       "       'Malcolm Gladwell', 'Charlaine Harris', 'Rod Campbell',\n",
       "       'George W. Bush', 'Tony Hsieh', 'American Psychiatric Association',\n",
       "       'M Prefontaine', 'Zhi Gang Sha', 'Dav Pilkey', 'Marty Noble',\n",
       "       'Daniel H. Pink', 'David Zinczenko', 'Joel Fuhrman MD',\n",
       "       'Tara Westover', 'Johanna Basford', 'Ray Bradbury', 'J.K. Rowling',\n",
       "       'Bob Woodward', 'E L James', 'Michael Wolff', 'Roger Priddy',\n",
       "       'Michael Pollan', 'RH Disney', 'John Heilemann',\n",
       "       'George R.R. Martin', 'Peter A. Lillback', 'Brian Kilmeade',\n",
       "       'Giles Andreae', 'Rachel Hollis', 'Harper Lee', 'Adam Mansbach',\n",
       "       'Sarah Palin', 'Gillian Flynn', 'Pretty Simple Press',\n",
       "       'Jim Collins', 'Margaret Wise Brown', 'Sherri Duskey Rinker',\n",
       "       'David Perlmutter MD', 'Raina Telgemeier', 'Lin-Manuel Miranda',\n",
       "       'Phil Robertson', 'J. K. Rowling', 'Scholastic', 'Mitch Albom',\n",
       "       'Todd Burpo', 'J. D. Vance', 'Joanna Gaines', 'Dale Carnegie',\n",
       "       'Howard Stern', 'Brandon Stanton', 'Allie Brosh',\n",
       "       'Hopscotch Girls', 'James Patterson', 'Ann Whitford Paul',\n",
       "       'Gayle Forman', 'Eric Larson', 'Dan Brown', 'Christopher Paolini',\n",
       "       'Jennifer Smith', 'Lysa TerKeurst', 'Sarah Young', 'David Grann',\n",
       "       \"Bill O'Reilly\", 'Anthony Bourdain', 'Rob Elliott', 'Jill Twiss',\n",
       "       'Sheryl Sandberg', 'Walter Isaacson', 'Paper Peony Press',\n",
       "       'Mark R. Levin', 'Keith Richards', 'Chris Cleave',\n",
       "       'Alice Schertle', 'Celeste Ng', 'John Green', 'Rob Bell',\n",
       "       'Robert Munsch', 'Admiral William H. McRaven', 'Julia Child',\n",
       "       'Rupi Kaur', 'Adam Gasiewski', 'Carol S. Dweck', 'Crispin Boyer',\n",
       "       'Amy Shields', 'Elie Wiesel', 'Mark Owen', 'Pete Souza',\n",
       "       'Dr. Seuss', 'Elizabeth Strout', 'Ann Voskamp',\n",
       "       'Christina Baker Kline', 'Naomi Kleinberg', 'Rick Riordan',\n",
       "       'Wizards RPG Team', 'Eben Alexander',\n",
       "       'American Psychological Association', 'Golden Books', 'Susan Cain',\n",
       "       'David Platt', 'Ernest Cline', 'Rush Limbaugh', 'Samin Nosrat',\n",
       "       'Tatiana de Rosnay', 'School Zone', 'Justin Halpern',\n",
       "       'Tucker Carlson', 'Ian K. Smith M.D.', 'Nathan W. Pyle', 'Gallup',\n",
       "       'Steven D. Levitt', 'Chip Heath', 'John Grisham', 'Doug Lemov',\n",
       "       'Mike Moreno', 'Timothy Ferriss', 'Gary Chapman',\n",
       "       'W. Cleon Skousen', 'Stephen R. Covey', 'Paulo Coelho',\n",
       "       'Edward Klein', 'Garth Stein', 'Michael Lewis', 'Mark Hyman M.D.',\n",
       "       'Bessel van der Kolk M.D.', 'Bill Simmons', 'Markus Zusak',\n",
       "       'B. J. Novak', 'Daniel James Brown', 'Thomas Campbell',\n",
       "       'Amy Ramos', 'Delegates of the Constitutional\\x85', 'Jon Stewart',\n",
       "       'Drew Daywalt', 'Pierre Dukan', 'Muriel Barbery',\n",
       "       'Patrick Lencioni', 'Don Miguel Ruiz', 'Paula Hawkins',\n",
       "       'Stieg Larsson', 'Sandra Boynton', 'Donna Tartt',\n",
       "       'F. Scott Fitzgerald', 'Mary Ann Shaffer', 'Margaret Atwood',\n",
       "       'Jonathan Cahn', 'Angie Thomas', 'Kathryn Stockett',\n",
       "       'Rebecca Skloot', 'Laurel Randolph', 'Randy Pausch',\n",
       "       'Patrick Thorpe', 'Daniel Lipkowitz', 'Marie Kondō',\n",
       "       'Stephen Kendrick', 'Chip Gaines', 'Andy Weir', 'James Dashner',\n",
       "       'The Washington Post', 'Kristin Hannah', 'The College Board',\n",
       "       'Paula McLain', 'Ree Drummond', 'Dr. Steven R Gundry MD',\n",
       "       'Deborah Diesen', 'Charles Duhigg', 'F. A. Hayek',\n",
       "       'William P. Young', 'Alex Michaelides', 'Mark Manson',\n",
       "       'Audrey Niffenegger', 'Dave Ramsey', 'Dinah Bucholz', 'Eric Carle',\n",
       "       'Melissa Hartwig Urban', 'Emily Winfield Martin', 'Craig Smith',\n",
       "       'David McCullough', 'Charles Krauthammer', 'Daniel Kahneman',\n",
       "       'Jay Asher', 'Jon Meacham', 'Greg Mortenson', 'Thug Kitchen',\n",
       "       'Tina Fey', 'Robert Jordan', 'Edward M. Kennedy',\n",
       "       'Laura Hillenbrand', 'Silly Bear', 'Alan Moore', 'Sara Gruen',\n",
       "       'Hillary Rodham Clinton', 'Randall Munroe', 'Adir Levy',\n",
       "       'Heidi Murkoff', 'William Davis', 'Paul Kalanithi', 'Delia Owens',\n",
       "       'Maurice Sendak', 'The Staff of The Late Show with\\x85',\n",
       "       'Cheryl Strayed', 'Ken Follett', 'Geneen Roth', 'R. J. Palacio',\n",
       "       'Jen Sincero'], dtype=object)"
      ]
     },
     "execution_count": 38,
     "metadata": {},
     "output_type": "execute_result"
    }
   ],
   "source": [
    "# How many different authors are featured in the dataset?\n",
    "\n",
    "Author = df['Author'].unique()\n",
    "Author"
   ]
  },
  {
   "cell_type": "code",
   "execution_count": 45,
   "id": "55f91e80-94f9-4fcc-b892-aded69627e58",
   "metadata": {},
   "outputs": [
    {
     "data": {
      "text/plain": [
       "'Jeff Kinney'"
      ]
     },
     "execution_count": 45,
     "metadata": {},
     "output_type": "execute_result"
    }
   ],
   "source": [
    "# Which author wrote the most number of books on the list? How many did they write?\n",
    "\n",
    "Author=df['Author'].mode()\n",
    "Author\n"
   ]
  },
  {
   "cell_type": "code",
   "execution_count": 53,
   "id": "9f20ac8b-578b-4bfc-bc63-de76144444d4",
   "metadata": {},
   "outputs": [
    {
     "data": {
      "text/plain": [
       "Name           12\n",
       "Author         12\n",
       "User Rating    12\n",
       "Reviews        12\n",
       "Price          12\n",
       "Year           12\n",
       "Genre          12\n",
       "dtype: int64"
      ]
     },
     "execution_count": 53,
     "metadata": {},
     "output_type": "execute_result"
    }
   ],
   "source": [
    "df.loc[df['Author']=='Jeff Kinney'].count()"
   ]
  },
  {
   "cell_type": "code",
   "execution_count": null,
   "id": "ba992b6e-e0e8-448d-9a92-68882257ce88",
   "metadata": {},
   "outputs": [],
   "source": []
  }
 ],
 "metadata": {
  "kernelspec": {
   "display_name": "Python 3 (ipykernel)",
   "language": "python",
   "name": "python3"
  },
  "language_info": {
   "codemirror_mode": {
    "name": "ipython",
    "version": 3
   },
   "file_extension": ".py",
   "mimetype": "text/x-python",
   "name": "python",
   "nbconvert_exporter": "python",
   "pygments_lexer": "ipython3",
   "version": "3.11.4"
  }
 },
 "nbformat": 4,
 "nbformat_minor": 5
}
